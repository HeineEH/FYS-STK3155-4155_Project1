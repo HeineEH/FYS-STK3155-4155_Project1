{
 "cells": [
  {
   "cell_type": "markdown",
   "id": "b06972a2",
   "metadata": {},
   "source": [
    "# Project 1"
   ]
  },
  {
   "cell_type": "markdown",
   "id": "52a26556",
   "metadata": {},
   "source": [
    "### Part a: Ordinary Least Square (OLS) for the Runge function"
   ]
  },
  {
   "cell_type": "code",
   "execution_count": null,
   "id": "4655c0c6",
   "metadata": {},
   "outputs": [],
   "source": [
    "# Imports\n",
    "import numpy as np"
   ]
  },
  {
   "cell_type": "code",
   "execution_count": null,
   "id": "c59bca29",
   "metadata": {},
   "outputs": [],
   "source": [
    "# Defining the Runge function\n",
    "def f(x):\n",
    "    return 1/(1+25*x**2)"
   ]
  },
  {
   "cell_type": "code",
   "execution_count": null,
   "id": "6c775692",
   "metadata": {},
   "outputs": [],
   "source": [
    "n = 100\n",
    "x = np.random.uniform(-1, 1, n)\n",
    "y = f(x) + 0.025*np.random.normal(0, 1, n)"
   ]
  },
  {
   "cell_type": "code",
   "execution_count": null,
   "id": "bb53f099",
   "metadata": {},
   "outputs": [],
   "source": [
    "import matplotlib.pyplot as plt\n",
    "plt.scatter(x, f(x)) \n",
    "plt.scatter(x, y)\n",
    "plt.show()"
   ]
  },
  {
   "cell_type": "code",
   "execution_count": null,
   "id": "25d97cd2",
   "metadata": {},
   "outputs": [],
   "source": [
    "def OLS_parameters(X, y):\n",
    "    X_transpose = np.transpose(X)\n",
    "    return np.linalg.pinv(X_transpose @ X) @ X_transpose @ y"
   ]
  },
  {
   "cell_type": "code",
   "execution_count": null,
   "id": "177a62ac",
   "metadata": {},
   "outputs": [],
   "source": [
    "def polynomial_features(x, p):\n",
    "    n = len(x)\n",
    "    X = np.zeros((n, p + 1))\n",
    "    X[:, 0] = 1\n",
    "    for degree in range(1, p+1):\n",
    "        X[:, degree] = x ** degree\n",
    "    return X"
   ]
  },
  {
   "cell_type": "code",
   "execution_count": null,
   "id": "3db43b2b",
   "metadata": {},
   "outputs": [],
   "source": [
    "def MSE(y, y_pred):\n",
    "    return 1/n * np.sum((y-y_pred)**2)\n",
    "\n",
    "def R2(y, y_pred):\n",
    "    return 1 - np.sum((y-y_pred)**2)/np.sum((y-np.mean(y))**2)"
   ]
  },
  {
   "cell_type": "code",
   "execution_count": null,
   "id": "6fd461c0",
   "metadata": {},
   "outputs": [],
   "source": [
    "MAX_POLYNOMIAL_DEGREE = 20\n",
    "MIN_POLYNOMIAL_DEGREE = 2\n",
    "\n",
    "mse_values = np.zeros(MAX_POLYNOMIAL_DEGREE-MIN_POLYNOMIAL_DEGREE+1)\n",
    "r2_values = np.zeros(MAX_POLYNOMIAL_DEGREE-MIN_POLYNOMIAL_DEGREE+1)\n",
    "\n",
    "polynomial_degrees = range(MIN_POLYNOMIAL_DEGREE, MAX_POLYNOMIAL_DEGREE+1)\n",
    "for p in polynomial_degrees:\n",
    "    X = polynomial_features(x, p)\n",
    "    theta = OLS_parameters(X, y)\n",
    "    y_pred = X @ theta\n",
    "    ols_mse = MSE(y, y_pred)\n",
    "    ols_r2 = R2(y, y_pred)\n",
    "    mse_values[p-MIN_POLYNOMIAL_DEGREE] = ols_mse\n",
    "    r2_values[p-MIN_POLYNOMIAL_DEGREE] = ols_r2"
   ]
  },
  {
   "cell_type": "code",
   "execution_count": null,
   "id": "da87f031",
   "metadata": {},
   "outputs": [],
   "source": [
    "# Plot the MSE and R2 values\n",
    "plt.figure(figsize=(12, 5))\n",
    "\n",
    "plt.subplot(1, 2, 1)\n",
    "plt.plot(polynomial_degrees, mse_values, marker='o')\n",
    "plt.title('MSE vs Polynomial Degree')\n",
    "plt.xlabel('Polynomial Degree')\n",
    "plt.ylabel('MSE')\n",
    "plt.xticks(polynomial_degrees)\n",
    "plt.grid()\n",
    "\n",
    "plt.subplot(1, 2, 2)\n",
    "plt.plot(polynomial_degrees, r2_values, marker='o', color='orange')\n",
    "plt.title('R2 vs Polynomial Degree')\n",
    "plt.xlabel('Polynomial Degree')\n",
    "plt.ylabel('R2')\n",
    "plt.xticks(polynomial_degrees)\n",
    "plt.grid()\n",
    "\n",
    "plt.tight_layout()\n",
    "plt.show()"
   ]
  }
 ],
 "metadata": {
  "kernelspec": {
   "display_name": ".venv",
   "language": "python",
   "name": "python3"
  },
  "language_info": {
   "codemirror_mode": {
    "name": "ipython",
    "version": 3
   },
   "file_extension": ".py",
   "mimetype": "text/x-python",
   "name": "python",
   "nbconvert_exporter": "python",
   "pygments_lexer": "ipython3",
   "version": "3.13.0"
  }
 },
 "nbformat": 4,
 "nbformat_minor": 5
}
