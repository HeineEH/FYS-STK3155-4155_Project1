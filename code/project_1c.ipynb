{
 "cells": [
  {
   "cell_type": "code",
   "execution_count": null,
   "metadata": {},
   "outputs": [],
   "source": [
    "# Imports\n",
    "import numpy as np\n",
    "from sklearn.model_selection import train_test_split\n",
    "# from sklearn.preprocessing import StandardScaler\n",
    "import matplotlib.pyplot as plt"
   ]
  },
  {
   "cell_type": "markdown",
   "metadata": {},
   "source": [
    "##### Exercise 1c) \n",
    "\n",
    "In this notebook, we implement a function for the ordinary gradient descent method. This is exercise 1c of project 1. "
   ]
  },
  {
   "cell_type": "code",
   "execution_count": null,
   "metadata": {},
   "outputs": [],
   "source": [
    "def GD(eta,eps,gradient,theta_0,N_iterations = 5000, momentum=0.0): \n",
    "    theta = theta_0\n",
    "    n = 0\n",
    "    change = 0\n",
    "    new_gradient = gradient(theta)\n",
    "\n",
    "    while np.linalg.norm(new_gradient) >= eps and n < N_iterations: \n",
    "        change = eta * new_gradient + momentum * change\n",
    "        theta -= change\n",
    "        n += 1\n",
    "\n",
    "        new_gradient = gradient(theta)\n",
    "\n",
    "\n",
    "    return theta\n"
   ]
  },
  {
   "cell_type": "markdown",
   "metadata": {},
   "source": [
    "## Testing on Runge function"
   ]
  },
  {
   "cell_type": "code",
   "execution_count": null,
   "metadata": {},
   "outputs": [],
   "source": [
    "def MSE(y, y_pred):\n",
    "    return np.mean((y-y_pred)**2)\n",
    "\n",
    "# def MSE_gradient(y, y_pred):\n",
    "#     return (2/len(y))*(y-y_pred)\n",
    "\n",
    "def polynomial_features(x, p, intercept = False):\n",
    "    n = len(x)\n",
    "    if intercept:\n",
    "        X = np.zeros((n,p+1))\n",
    "        for i in range(p+1):\n",
    "            X[:, i] = x**i\n",
    "    else:\n",
    "        X = np.zeros((n, p))\n",
    "        for i in range(1, p + 1):\n",
    "            X[:, i - 1] = x ** i\n",
    "    return X"
   ]
  },
  {
   "cell_type": "code",
   "execution_count": null,
   "metadata": {},
   "outputs": [],
   "source": [
    "# Defining the Runge function\n",
    "def f(x):\n",
    "    return 1/(1+25*x**2)"
   ]
  },
  {
   "cell_type": "code",
   "execution_count": null,
   "metadata": {},
   "outputs": [],
   "source": [
    "n = 100\n",
    "x = np.random.uniform(-1, 1, n)\n",
    "y = f(x) + 0.025*np.random.normal(0, 1, n)"
   ]
  },
  {
   "cell_type": "code",
   "execution_count": null,
   "metadata": {},
   "outputs": [],
   "source": [
    "polynomial_degree = 5\n",
    "X = polynomial_features(x, polynomial_degree)"
   ]
  },
  {
   "cell_type": "code",
   "execution_count": null,
   "metadata": {},
   "outputs": [],
   "source": [
    "theta_0 = np.random.uniform(-1, 1, X.shape[1])\n",
    "momentum = 3\n",
    "eta = 0.1\n",
    "eps = 0.0001\n",
    "# gradient = lambda theta: MSE_gradient(y, X@theta)\n",
    "# theta = GD(eta, eps, gradient, theta_0, momentum=0.3)"
   ]
  }
 ],
 "metadata": {
  "kernelspec": {
   "display_name": ".venv",
   "language": "python",
   "name": "python3"
  },
  "language_info": {
   "codemirror_mode": {
    "name": "ipython",
    "version": 3
   },
   "file_extension": ".py",
   "mimetype": "text/x-python",
   "name": "python",
   "nbconvert_exporter": "python",
   "pygments_lexer": "ipython3",
   "version": "3.13.0"
  }
 },
 "nbformat": 4,
 "nbformat_minor": 2
}
