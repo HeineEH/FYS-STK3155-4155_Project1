{
 "cells": [
  {
   "cell_type": "code",
   "execution_count": null,
   "id": "157e3ef6",
   "metadata": {},
   "outputs": [],
   "source": [
    "%load_ext autoreload\n",
    "%autoreload 1\n",
    "\n",
    "import sys\n",
    "import os\n",
    "\n",
    "# This adds 'code/' to sys.path\n",
    "code_dir = os.path.abspath(os.path.dirname(__file__)) if '__file__' in globals() else os.path.abspath('')\n",
    "if code_dir not in sys.path:\n",
    "    sys.path.append(code_dir)"
   ]
  },
  {
   "cell_type": "code",
   "execution_count": null,
   "id": "b13442cb",
   "metadata": {},
   "outputs": [],
   "source": [
    "import numpy as np\n",
    "import matplotlib.pyplot as plt\n",
    "import numpy.typing as npt"
   ]
  },
  {
   "cell_type": "markdown",
   "id": "6d09c8a0",
   "metadata": {},
   "source": [
    "# Example of using the class"
   ]
  },
  {
   "cell_type": "code",
   "execution_count": null,
   "id": "ebb5f6f7",
   "metadata": {},
   "outputs": [],
   "source": [
    "from sklearn.preprocessing import PolynomialFeatures"
   ]
  },
  {
   "cell_type": "code",
   "execution_count": null,
   "id": "582648d2",
   "metadata": {},
   "outputs": [],
   "source": [
    "# Defining the Runge function\n",
    "def f(x):\n",
    "    return 1/(1+25*x**2)\n",
    "\n",
    "n = 100\n",
    "x = np.random.uniform(-1, 1, n)\n",
    "y = f(x) + 0.01*np.random.normal(0, 1, n)\n",
    "\n",
    "p = 5\n",
    "X = PolynomialFeatures(p).fit_transform(x.reshape(-1, 1))\n",
    "num_features = X.shape[1]"
   ]
  },
  {
   "cell_type": "code",
   "execution_count": null,
   "id": "6d295ecc",
   "metadata": {},
   "outputs": [],
   "source": [
    "def MSE_gradient(X: npt.NDArray[np.floating], y: npt.NDArray[np.floating], theta: npt.NDArray[np.floating]):\n",
    "    n = X.shape[0]\n",
    "    return (2.0 / n) * X.T @ (X @ theta - y)"
   ]
  },
  {
   "cell_type": "code",
   "execution_count": null,
   "id": "c685587d",
   "metadata": {},
   "outputs": [],
   "source": [
    "%aimport methods.training_methods, methods.step_methods\n",
    "from methods.training_methods import GradientDescent\n",
    "from methods.step_methods import ConstantGradientStep, MomentumGradientStep"
   ]
  },
  {
   "cell_type": "code",
   "execution_count": null,
   "id": "3a998e5f",
   "metadata": {},
   "outputs": [],
   "source": [
    "np.random.seed(1234)\n",
    "theta = np.random.uniform(-1, 1, num_features)\n",
    "iterations = 10000\n",
    "\n",
    "constant_step = ConstantGradientStep(learning_rate=0.01)\n",
    "momentum_step = MomentumGradientStep(learning_rate=0.01, momentum=0.8, num_features=num_features)\n",
    "\n",
    "gd_constant_step = GradientDescent(X, y, gradient_function=MSE_gradient, starting_parameters=theta, step_method=constant_step)\n",
    "gd_momentum_step = GradientDescent(X, y, gradient_function=MSE_gradient, starting_parameters=theta, step_method=momentum_step)\n",
    "\n",
    "mse_data_gd_constant_step = gd_constant_step.train(iterations=iterations, store_mse=True)\n",
    "mse_data_gd_momentum = gd_momentum_step.train(iterations=iterations, store_mse=True)"
   ]
  },
  {
   "cell_type": "code",
   "execution_count": null,
   "id": "e18256a9",
   "metadata": {},
   "outputs": [],
   "source": [
    "plt.plot(mse_data_gd_constant_step[0], mse_data_gd_constant_step[1], \"o-\", label='Gradient Descent, constant step')\n",
    "plt.plot(mse_data_gd_momentum[0], mse_data_gd_momentum[1], \"o-\", label='Gradient Descent, momentum step')\n",
    "\n",
    "\n",
    "plt.xlabel(\"Iterations\")\n",
    "plt.ylabel(\"MSE\")\n",
    "plt.title(\"Logarithmic plot of MSE over iterations\")\n",
    "# plt.loglog()\n",
    "plt.xscale(\"log\")\n",
    "# plt.yscale(\"log\")\n",
    "plt.grid()\n",
    "plt.legend()\n",
    "plt.show()"
   ]
  },
  {
   "cell_type": "code",
   "execution_count": null,
   "id": "4688ff1d",
   "metadata": {},
   "outputs": [],
   "source": [
    "y_pred = gd_constant_step.predict(X)\n",
    "y_pred_momentum = gd_momentum_step.predict(X)\n",
    "plt.scatter(x, y, label='Data', color='blue', s=10)\n",
    "\n",
    "plt.scatter(x, y_pred, label='Prediction', color='red', s=10)\n",
    "plt.scatter(x, y_pred_momentum, label='Prediction, momentum', color='green', s=10)"
   ]
  }
 ],
 "metadata": {
  "kernelspec": {
   "display_name": ".venv",
   "language": "python",
   "name": "python3"
  },
  "language_info": {
   "codemirror_mode": {
    "name": "ipython",
    "version": 3
   },
   "file_extension": ".py",
   "mimetype": "text/x-python",
   "name": "python",
   "nbconvert_exporter": "python",
   "pygments_lexer": "ipython3",
   "version": "3.13.0"
  }
 },
 "nbformat": 4,
 "nbformat_minor": 5
}
