{
 "cells": [
  {
   "cell_type": "code",
   "execution_count": null,
   "id": "157e3ef6",
   "metadata": {},
   "outputs": [],
   "source": [
    "%load_ext autoreload\n",
    "%autoreload 1\n",
    "\n",
    "import sys\n",
    "import os\n",
    "\n",
    "# This adds 'code/' to sys.path\n",
    "code_dir = os.path.abspath(os.path.dirname(__file__)) if '__file__' in globals() else os.path.abspath('')\n",
    "if code_dir not in sys.path:\n",
    "    sys.path.append(code_dir)"
   ]
  },
  {
   "cell_type": "code",
   "execution_count": null,
   "id": "b13442cb",
   "metadata": {},
   "outputs": [],
   "source": [
    "import numpy as np\n",
    "import matplotlib.pyplot as plt\n",
    "import numpy.typing as npt"
   ]
  },
  {
   "cell_type": "markdown",
   "id": "6d09c8a0",
   "metadata": {},
   "source": [
    "# Example of using the class"
   ]
  },
  {
   "cell_type": "code",
   "execution_count": null,
   "id": "ebb5f6f7",
   "metadata": {},
   "outputs": [],
   "source": [
    "from sklearn.preprocessing import PolynomialFeatures"
   ]
  },
  {
   "cell_type": "code",
   "execution_count": null,
   "id": "582648d2",
   "metadata": {},
   "outputs": [],
   "source": [
    "# Defining the Runge function\n",
    "def f(x):\n",
    "    return 1/(1+25*x**2)\n",
    "\n",
    "n = 100\n",
    "x = np.random.uniform(-1, 1, n)\n",
    "y = f(x) + 0.01*np.random.normal(0, 1, n)\n",
    "\n",
    "p = 5\n",
    "X = PolynomialFeatures(p).fit_transform(x.reshape(-1, 1))\n",
    "num_features = X.shape[1]"
   ]
  },
  {
   "cell_type": "code",
   "execution_count": null,
   "id": "6d295ecc",
   "metadata": {},
   "outputs": [],
   "source": [
    "def MSE_gradient(X: npt.NDArray[np.floating], y: npt.NDArray[np.floating], theta: npt.NDArray[np.floating]):\n",
    "    n = X.shape[0]\n",
    "    return (2.0 / n) * X.T @ (X @ theta - y)"
   ]
  },
  {
   "cell_type": "code",
   "execution_count": null,
   "id": "c685587d",
   "metadata": {},
   "outputs": [],
   "source": [
    "%aimport methods.training_methods, methods.step_methods\n",
    "from methods.training_methods import GradientDescent\n",
    "from methods.step_methods import ConstantGradientStep, MomentumGradientStep, ADAgradStep, RMSpropStep, AdamStep"
   ]
  },
  {
   "cell_type": "code",
   "execution_count": null,
   "id": "3a998e5f",
   "metadata": {},
   "outputs": [],
   "source": [
    "np.random.seed(1234)\n",
    "theta = np.random.uniform(-1, 1, num_features)\n",
    "iterations = 10000\n",
    "\n",
    "gd_constant = GradientDescent(X, y, gradient_function=MSE_gradient, starting_parameters=theta, step_method=ConstantGradientStep(learning_rate=0.02))\n",
    "gd_momentum = GradientDescent(X, y, gradient_function=MSE_gradient, starting_parameters=theta, step_method=MomentumGradientStep(learning_rate=0.02, momentum=0.7))\n",
    "gd_ADAgrad = GradientDescent(X, y, gradient_function=MSE_gradient, starting_parameters=theta, step_method=ADAgradStep(learning_rate=0.2))\n",
    "gd_RMSprop = GradientDescent(X, y, gradient_function=MSE_gradient, starting_parameters=theta, step_method=RMSpropStep(learning_rate=0.007, decay_rate=0.9))\n",
    "gd_Adam = GradientDescent(X, y, gradient_function=MSE_gradient, starting_parameters=theta, step_method=AdamStep(learning_rate=0.01, beta1=0.9, beta2=0.999))\n",
    "\n",
    "\n",
    "mse_data_gd_constant_step = gd_constant.train(iterations=iterations, store_mse=True)\n",
    "mse_data_gd_momentum = gd_momentum.train(iterations=iterations, store_mse=True)\n",
    "mse_data_gd_ADAgrad = gd_ADAgrad.train(iterations=iterations, store_mse=True)\n",
    "mse_data_gd_RMSprop = gd_RMSprop.train(iterations=iterations, store_mse=True)\n",
    "mse_data_gd_Adam = gd_Adam.train(iterations=iterations, store_mse=True)"
   ]
  },
  {
   "cell_type": "code",
   "execution_count": null,
   "id": "e18256a9",
   "metadata": {},
   "outputs": [],
   "source": [
    "plt.plot(mse_data_gd_constant_step[0], mse_data_gd_constant_step[1], label='Gradient Descent, constant step')\n",
    "plt.plot(mse_data_gd_momentum[0], mse_data_gd_momentum[1], label='Gradient Descent, momentum step')\n",
    "plt.plot(mse_data_gd_ADAgrad[0], mse_data_gd_ADAgrad[1], label='Gradient Descent, ADAgrad step')\n",
    "plt.plot(mse_data_gd_RMSprop[0], mse_data_gd_RMSprop[1], label='Gradient Descent, RMSprop step')\n",
    "plt.plot(mse_data_gd_Adam[0], mse_data_gd_Adam[1], label='Gradient Descent, Adam step')\n",
    "\n",
    "plt.xlabel(\"Iterations\")\n",
    "plt.ylabel(\"MSE\")\n",
    "plt.title(\"Logarithmic plot of MSE over iterations\")\n",
    "plt.loglog()\n",
    "# plt.xscale(\"log\")\n",
    "# plt.yscale(\"log\")\n",
    "plt.grid()\n",
    "plt.legend()\n",
    "plt.show()"
   ]
  },
  {
   "cell_type": "code",
   "execution_count": null,
   "id": "4688ff1d",
   "metadata": {},
   "outputs": [],
   "source": [
    "y_pred = gd_constant.predict(X)\n",
    "y_pred_momentum = gd_momentum.predict(X)\n",
    "plt.scatter(x, y, label='Data', color='blue', s=10)\n",
    "\n",
    "plt.scatter(x, y_pred, label='Prediction', color='red', s=10)\n",
    "plt.scatter(x, y_pred_momentum, label='Prediction, momentum', color='green', s=10)"
   ]
  },
  {
   "cell_type": "code",
   "execution_count": null,
   "id": "50e50bdb",
   "metadata": {},
   "outputs": [],
   "source": [
    "for learning_rate in np.linspace(0.01, 0.05, 5):\n",
    "    gd_RMSprop = GradientDescent(X, y, gradient_function=MSE_gradient, starting_parameters=theta, step_method=AdamStep(learning_rate=learning_rate))\n",
    "    mse = gd_RMSprop.train(iterations=1000, store_mse=True)\n",
    "    plt.plot(mse[0], mse[1], label=f'Prediction, lr={learning_rate}')\n",
    "    print(mse[1][-1])\n",
    "plt.xlabel(\"Iterations\")\n",
    "plt.ylabel(\"MSE\")\t\n",
    "plt.title(\"Logarithmic plot of MSE over iterations for different learning rates\")\n",
    "plt.loglog()\n",
    "plt.grid()\n",
    "plt.legend()\n",
    "plt.show()"
   ]
  }
 ],
 "metadata": {
  "kernelspec": {
   "display_name": ".venv",
   "language": "python",
   "name": "python3"
  },
  "language_info": {
   "codemirror_mode": {
    "name": "ipython",
    "version": 3
   },
   "file_extension": ".py",
   "mimetype": "text/x-python",
   "name": "python",
   "nbconvert_exporter": "python",
   "pygments_lexer": "ipython3",
   "version": "3.13.0"
  }
 },
 "nbformat": 4,
 "nbformat_minor": 5
}
